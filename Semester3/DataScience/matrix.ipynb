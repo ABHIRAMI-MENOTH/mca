{
 "cells": [
  {
   "cell_type": "code",
   "execution_count": 5,
   "id": "e778c399-5e7f-4285-bede-c52e45da9cf8",
   "metadata": {},
   "outputs": [
    {
     "name": "stdin",
     "output_type": "stream",
     "text": [
      "Enter no.of rows: 2\n",
      "Enter no.of columns: 2\n"
     ]
    },
    {
     "name": "stdout",
     "output_type": "stream",
     "text": [
      "Enter elements row wise:\n"
     ]
    },
    {
     "name": "stdin",
     "output_type": "stream",
     "text": [
      " 1\n",
      " 2\n",
      " 3\n",
      " 4\n"
     ]
    },
    {
     "name": "stdout",
     "output_type": "stream",
     "text": [
      "1 2 \n",
      "3 4 \n"
     ]
    }
   ],
   "source": [
    "a=int(input(\"Enter no.of rows:\"))\n",
    "b=int(input(\"Enter no.of columns:\"))\n",
    "matrix= []\n",
    "\n",
    "print(\"Enter elements row wise:\")\n",
    "for i in range(a):\n",
    "    c=[]\n",
    "    for j in range(b):\n",
    "        c.append(int(input()))\n",
    "    matrix.append(c)\n",
    "\n",
    "for i in range(a):\n",
    "    for j in range(b):\n",
    "        print(matrix[i][j],end=\" \")\n",
    "    print()\n",
    "    "
   ]
  },
  {
   "cell_type": "code",
   "execution_count": 15,
   "id": "b2169fa3-9d77-4673-b752-195c2a3a2176",
   "metadata": {},
   "outputs": [
    {
     "name": "stdin",
     "output_type": "stream",
     "text": [
      "Enter no.of rows: 2\n",
      "Enter no.of columns: 2\n"
     ]
    },
    {
     "name": "stdout",
     "output_type": "stream",
     "text": [
      "Enter elements row wise:\n"
     ]
    },
    {
     "name": "stdin",
     "output_type": "stream",
     "text": [
      " 1\n",
      " 2\n",
      " 3\n",
      " 4\n"
     ]
    },
    {
     "name": "stdout",
     "output_type": "stream",
     "text": [
      "[[1 3]\n",
      " [2 4]]\n"
     ]
    }
   ],
   "source": [
    "import numpy as np\n",
    "a=int(input(\"Enter no.of rows:\"))\n",
    "b=int(input(\"Enter no.of columns:\"))\n",
    "matrixa= []\n",
    "\n",
    "print(\"Enter elements row wise:\")\n",
    "for i in range(a):\n",
    "    c=[]\n",
    "    for j in range(b):\n",
    "        c.append(int(input()))\n",
    "    matrixa.append(c)\n",
    "matrix=np.array(matrixa)\n",
    "res=matrix.transpose()\n",
    "print(res)\n"
   ]
  },
  {
   "cell_type": "code",
   "execution_count": 29,
   "id": "fb4d9603-a8fe-4bf8-adf9-1aeddf79bb9f",
   "metadata": {},
   "outputs": [
    {
     "name": "stdin",
     "output_type": "stream",
     "text": [
      "Enter no.of rows: 2\n",
      "Enter no.of columns: 2\n"
     ]
    },
    {
     "name": "stdout",
     "output_type": "stream",
     "text": [
      "Enter elements row wise:\n"
     ]
    },
    {
     "name": "stdin",
     "output_type": "stream",
     "text": [
      " 1\n",
      " 2\n",
      " 3\n",
      " 4\n",
      "Enter no.of rows: 2\n",
      "Enter no.of columns: 2\n"
     ]
    },
    {
     "name": "stdout",
     "output_type": "stream",
     "text": [
      "Enter elements row wise:\n"
     ]
    },
    {
     "name": "stdin",
     "output_type": "stream",
     "text": [
      " 5\n",
      " 6\n",
      " 7\n",
      " 8\n"
     ]
    },
    {
     "name": "stdout",
     "output_type": "stream",
     "text": [
      "[[19 22]\n",
      " [43 50]]\n"
     ]
    }
   ],
   "source": [
    "import numpy as np\n",
    "a=int(input(\"Enter no.of rows:\"))\n",
    "b=int(input(\"Enter no.of columns:\"))\n",
    "matrixa= []\n",
    "\n",
    "print(\"Enter elements row wise:\")\n",
    "for i in range(a):\n",
    "    c=[]\n",
    "    for j in range(b):\n",
    "        c.append(int(input()))\n",
    "    matrixa.append(c)\n",
    "\n",
    "d=int(input(\"Enter no.of rows:\"))\n",
    "e=int(input(\"Enter no.of columns:\"))\n",
    "matrixb= []\n",
    "\n",
    "if b==d:\n",
    "    print(\"Enter elements row wise:\")\n",
    "    for i in range(d):\n",
    "        f=[]\n",
    "        for j in range(e):\n",
    "            f.append(int(input()))\n",
    "        matrixb.append(f)\n",
    "    result=np.dot(matrixa,matrixb)\n",
    "    print(result)\n",
    "else:\n",
    "    print(\"Error! Row and column size should be same\")\n"
   ]
  },
  {
   "cell_type": "code",
   "execution_count": 17,
   "id": "127b869b-8207-4bba-81c2-d79ff05ba351",
   "metadata": {},
   "outputs": [
    {
     "name": "stdin",
     "output_type": "stream",
     "text": [
      "Enter no.of rows: 2\n",
      "Enter no.of columns: 2\n"
     ]
    },
    {
     "name": "stdout",
     "output_type": "stream",
     "text": [
      "Enter elements row wise:\n"
     ]
    },
    {
     "name": "stdin",
     "output_type": "stream",
     "text": [
      " 4\n",
      " 6\n",
      " 8\n",
      " 10\n"
     ]
    },
    {
     "name": "stdout",
     "output_type": "stream",
     "text": [
      "[[-1.25  0.75]\n",
      " [ 1.   -0.5 ]]\n"
     ]
    }
   ],
   "source": [
    "import numpy as np\n",
    "a=int(input(\"Enter no.of rows:\"))\n",
    "b=int(input(\"Enter no.of columns:\"))\n",
    "matrixa= []\n",
    "\n",
    "print(\"Enter elements row wise:\")\n",
    "for i in range(a):\n",
    "    c=[]\n",
    "    for j in range(b):\n",
    "        c.append(int(input()))\n",
    "    matrixa.append(c)\n",
    "matrix=np.array(matrixa)\n",
    "res=np.linalg.inv(matrixa)\n",
    "print(res)\n"
   ]
  },
  {
   "cell_type": "code",
   "execution_count": 20,
   "id": "bed2eca2-7531-4e3d-a460-2b464babd3de",
   "metadata": {},
   "outputs": [
    {
     "name": "stdin",
     "output_type": "stream",
     "text": [
      "Enter no.of rows: 2\n",
      "Enter no.of columns: 2\n"
     ]
    },
    {
     "name": "stdout",
     "output_type": "stream",
     "text": [
      "Enter elements row wise:\n"
     ]
    },
    {
     "name": "stdin",
     "output_type": "stream",
     "text": [
      " 1\n",
      " 2\n",
      " 3\n",
      " 4\n"
     ]
    },
    {
     "name": "stdout",
     "output_type": "stream",
     "text": [
      "Rank of matrix: 2\n"
     ]
    }
   ],
   "source": [
    "import numpy as np\n",
    "a=int(input(\"Enter no.of rows:\"))\n",
    "b=int(input(\"Enter no.of columns:\"))\n",
    "matrixa= []\n",
    "\n",
    "print(\"Enter elements row wise:\")\n",
    "for i in range(a):\n",
    "    c=[]\n",
    "    for j in range(b):\n",
    "        c.append(int(input()))\n",
    "    matrixa.append(c)\n",
    "matrix=np.array(matrixa)\n",
    "res=np.linalg.matrix_rank(matrixa)\n",
    "print(\"Rank of matrix:\",res)\n"
   ]
  },
  {
   "cell_type": "code",
   "execution_count": null,
   "id": "88aadd01-c79a-43a5-8b5a-1c4e69dac6a8",
   "metadata": {},
   "outputs": [],
   "source": []
  }
 ],
 "metadata": {
  "kernelspec": {
   "display_name": "Python 3 (ipykernel)",
   "language": "python",
   "name": "python3"
  },
  "language_info": {
   "codemirror_mode": {
    "name": "ipython",
    "version": 3
   },
   "file_extension": ".py",
   "mimetype": "text/x-python",
   "name": "python",
   "nbconvert_exporter": "python",
   "pygments_lexer": "ipython3",
   "version": "3.13.5"
  }
 },
 "nbformat": 4,
 "nbformat_minor": 5
}
